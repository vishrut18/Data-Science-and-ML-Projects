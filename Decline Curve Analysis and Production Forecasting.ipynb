{
 "cells": [
  {
   "cell_type": "markdown",
   "metadata": {},
   "source": [
    "# DCA and Production Forecasting for a Synthetic Oil Well Production Data Set!\n",
    "___\n",
    "**In this project, I have worked with synthetic oil production dataset for a conventional reservoir.\n",
    "The steps involved are:**\n",
    "\n",
    "**1) Identify the flow regime as conventionally Arps DCA can only be applied to Boundary Dominated Flow (BDF) regime**.<br>\n",
    "\n",
    "**2) Study diagnostic plots to identify the type of Decline (i.e Exponential, Hyperbolic or Harmonic).** <br>\n",
    "\n",
    "**3) Calculate the Arps Parameters (a = Nominal Decline rate, qi = Initial production rate at t=0, etc.)** <br>\n",
    "\n",
    "**4) Production Forecasting and calculating the well's Estimated Ultimate Recovery (EUR) for the next three years.**"
   ]
  },
  {
   "cell_type": "code",
   "execution_count": 1,
   "metadata": {},
   "outputs": [],
   "source": [
    "# Imports\n",
    "import numpy as np\n",
    "import pandas as pd\n",
    "import matplotlib.pyplot as plt\n",
    "import seaborn as sns\n",
    "%matplotlib inline"
   ]
  },
  {
   "cell_type": "code",
   "execution_count": 2,
   "metadata": {},
   "outputs": [],
   "source": [
    "# Reading the data from Excel file\n",
    "df = pd.read_excel('DCA_ML.xlsx')"
   ]
  },
  {
   "cell_type": "code",
   "execution_count": 3,
   "metadata": {},
   "outputs": [
    {
     "data": {
      "text/html": [
       "<div>\n",
       "<style scoped>\n",
       "    .dataframe tbody tr th:only-of-type {\n",
       "        vertical-align: middle;\n",
       "    }\n",
       "\n",
       "    .dataframe tbody tr th {\n",
       "        vertical-align: top;\n",
       "    }\n",
       "\n",
       "    .dataframe thead th {\n",
       "        text-align: right;\n",
       "    }\n",
       "</style>\n",
       "<table border=\"1\" class=\"dataframe\">\n",
       "  <thead>\n",
       "    <tr style=\"text-align: right;\">\n",
       "      <th></th>\n",
       "      <th>time (hrs)</th>\n",
       "      <th>q (STB/D)</th>\n",
       "      <th>Np (STB)</th>\n",
       "    </tr>\n",
       "  </thead>\n",
       "  <tbody>\n",
       "    <tr>\n",
       "      <th>0</th>\n",
       "      <td>6000.000000</td>\n",
       "      <td>0.000000</td>\n",
       "      <td>0.000000</td>\n",
       "    </tr>\n",
       "    <tr>\n",
       "      <th>1</th>\n",
       "      <td>6300.000000</td>\n",
       "      <td>4098.253196</td>\n",
       "      <td>51228.164945</td>\n",
       "    </tr>\n",
       "    <tr>\n",
       "      <th>2</th>\n",
       "      <td>6329.233967</td>\n",
       "      <td>4053.040291</td>\n",
       "      <td>56165.100209</td>\n",
       "    </tr>\n",
       "    <tr>\n",
       "      <th>3</th>\n",
       "      <td>6359.929632</td>\n",
       "      <td>4022.647451</td>\n",
       "      <td>61310.010217</td>\n",
       "    </tr>\n",
       "    <tr>\n",
       "      <th>4</th>\n",
       "      <td>6392.160081</td>\n",
       "      <td>3998.021336</td>\n",
       "      <td>66679.094446</td>\n",
       "    </tr>\n",
       "  </tbody>\n",
       "</table>\n",
       "</div>"
      ],
      "text/plain": [
       "    time (hrs)    q (STB/D)      Np (STB)\n",
       "0  6000.000000     0.000000      0.000000\n",
       "1  6300.000000  4098.253196  51228.164945\n",
       "2  6329.233967  4053.040291  56165.100209\n",
       "3  6359.929632  4022.647451  61310.010217\n",
       "4  6392.160081  3998.021336  66679.094446"
      ]
     },
     "execution_count": 3,
     "metadata": {},
     "output_type": "execute_result"
    }
   ],
   "source": [
    "df.head()"
   ]
  },
  {
   "cell_type": "markdown",
   "metadata": {},
   "source": [
    "q = Oil Production Rate in STB/day<br>\n",
    "Np = Cumulative Oil Production in STB"
   ]
  },
  {
   "cell_type": "code",
   "execution_count": 4,
   "metadata": {},
   "outputs": [],
   "source": [
    "# Rounding of the values upto 1 decimal\n",
    "df['time (hrs)'] = round(df['time (hrs)'],1)\n",
    "df['q (STB/D)']=round(df['q (STB/D)'],1)\n",
    "df['Np (STB)'] = round(df['Np (STB)'],1)"
   ]
  },
  {
   "cell_type": "code",
   "execution_count": 7,
   "metadata": {},
   "outputs": [],
   "source": [
    "# Adding column 'time (days)' to our dataframe\n",
    "df['time (days)'] = round(df['time (hrs)']/24,1)"
   ]
  },
  {
   "cell_type": "code",
   "execution_count": 9,
   "metadata": {},
   "outputs": [
    {
     "data": {
      "text/html": [
       "<div>\n",
       "<style scoped>\n",
       "    .dataframe tbody tr th:only-of-type {\n",
       "        vertical-align: middle;\n",
       "    }\n",
       "\n",
       "    .dataframe tbody tr th {\n",
       "        vertical-align: top;\n",
       "    }\n",
       "\n",
       "    .dataframe thead th {\n",
       "        text-align: right;\n",
       "    }\n",
       "</style>\n",
       "<table border=\"1\" class=\"dataframe\">\n",
       "  <thead>\n",
       "    <tr style=\"text-align: right;\">\n",
       "      <th></th>\n",
       "      <th>time (hrs)</th>\n",
       "      <th>q (STB/D)</th>\n",
       "      <th>Np (STB)</th>\n",
       "      <th>time (days)</th>\n",
       "    </tr>\n",
       "  </thead>\n",
       "  <tbody>\n",
       "    <tr>\n",
       "      <th>0</th>\n",
       "      <td>6000.0</td>\n",
       "      <td>0.0</td>\n",
       "      <td>0.0</td>\n",
       "      <td>250.0</td>\n",
       "    </tr>\n",
       "    <tr>\n",
       "      <th>1</th>\n",
       "      <td>6300.0</td>\n",
       "      <td>4098.3</td>\n",
       "      <td>51228.2</td>\n",
       "      <td>262.5</td>\n",
       "    </tr>\n",
       "    <tr>\n",
       "      <th>2</th>\n",
       "      <td>6329.2</td>\n",
       "      <td>4053.0</td>\n",
       "      <td>56165.1</td>\n",
       "      <td>263.7</td>\n",
       "    </tr>\n",
       "    <tr>\n",
       "      <th>3</th>\n",
       "      <td>6359.9</td>\n",
       "      <td>4022.6</td>\n",
       "      <td>61310.0</td>\n",
       "      <td>265.0</td>\n",
       "    </tr>\n",
       "    <tr>\n",
       "      <th>4</th>\n",
       "      <td>6392.2</td>\n",
       "      <td>3998.0</td>\n",
       "      <td>66679.1</td>\n",
       "      <td>266.3</td>\n",
       "    </tr>\n",
       "  </tbody>\n",
       "</table>\n",
       "</div>"
      ],
      "text/plain": [
       "   time (hrs)  q (STB/D)  Np (STB)  time (days)\n",
       "0      6000.0        0.0       0.0        250.0\n",
       "1      6300.0     4098.3   51228.2        262.5\n",
       "2      6329.2     4053.0   56165.1        263.7\n",
       "3      6359.9     4022.6   61310.0        265.0\n",
       "4      6392.2     3998.0   66679.1        266.3"
      ]
     },
     "execution_count": 9,
     "metadata": {},
     "output_type": "execute_result"
    }
   ],
   "source": [
    "df.head()"
   ]
  },
  {
   "cell_type": "markdown",
   "metadata": {},
   "source": [
    "## Identifying the flow regime"
   ]
  },
  {
   "attachments": {
    "image.png": {
     "image/png": "[encoded data removed]"
    }
   },
   "cell_type": "markdown",
   "metadata": {},
   "source": [
    "**Material Balance Time (tc)**\n",
    "\n",
    "The Fetkovich typecurves are applicable to wells that produce at constant bottomhole pressure. Many wells, particularly gas wells, experience a decline in bottomhole pressure during their life. **Blasingame and his students (McCray, Palacio)** developed a time-function, called Material Balance Time, that enables the matching of production rate data on Fetkovich typecurves, even when the flowing pressure is varying. They, and Agarwal-Gardner et al., also demonstrated that using material balance time converts the constant pressure solution into the constant rate solution, which is the solution widely used in the field of well testing.\n",
    "\n",
    "Conceptually, the material balance time is defined as the ratio of cumulative production to instantaneous rate:\n",
    "\n",
    "![image.png](attachment:image.png)"
   ]
  },
  {
   "cell_type": "code",
   "execution_count": 14,
   "metadata": {},
   "outputs": [],
   "source": [
    "# Calculating Material Balance Time (tc)\n",
    "df['MB tc'] = round(df['Np (STB)']/df['q (STB/D)'],1)"
   ]
  },
  {
   "cell_type": "markdown",
   "metadata": {},
   "source": [
    "For conforming the **Boundary Dominated Flow**, we need to look out for $-1$ slope on the $log$ $q$ $vs$ $log$ $tc$ plot."
   ]
  },
  {
   "cell_type": "code",
   "execution_count": 21,
   "metadata": {},
   "outputs": [
    {
     "data": {
      "text/plain": [
       "<matplotlib.axes._subplots.AxesSubplot at 0x1c24313a108>"
      ]
     },
     "execution_count": 21,
     "metadata": {},
     "output_type": "execute_result"
    },
    {
     "data": {
      "image/png": "[encoded data removed]",
      "text/plain": [
       "<Figure size 504x360 with 1 Axes>"
      ]
     },
     "metadata": {},
     "output_type": "display_data"
    }
   ],
   "source": [
    "# Plot of log q vs log tc\n",
    "sns.set_style('darkgrid')\n",
    "f, ax = plt.subplots(figsize=(7, 5))\n",
    "ax.set(xscale=\"log\", yscale=\"log\")\n",
    "plt.xlim(10,10000)\n",
    "plt.ylim(100,10000)\n",
    "plt.title('q vs tc',{'fontsize': 15})\n",
    "sns.regplot('MB tc', 'q (STB/D)', data=df, scatter_kws={\"s\": 25},fit_reg=False)"
   ]
  },
  {
   "cell_type": "markdown",
   "metadata": {},
   "source": [
    "We can see the $-1$ slope after approx $tc = 4500$ $days$.\n",
    "\n",
    "Lets create a new dataframe with this information."
   ]
  },
  {
   "cell_type": "code",
   "execution_count": 22,
   "metadata": {},
   "outputs": [],
   "source": [
    "# DataFrame with data for the boundary dominated flow\n",
    "df_bdf = df[df['MB tc']>4500]"
   ]
  },
  {
   "cell_type": "code",
   "execution_count": 30,
   "metadata": {
    "scrolled": false
   },
   "outputs": [
    {
     "data": {
      "text/plain": [
       "<matplotlib.axes._subplots.AxesSubplot at 0x1c2447b4148>"
      ]
     },
     "execution_count": 30,
     "metadata": {},
     "output_type": "execute_result"
    },
    {
     "data": {
      "image/png": "[encoded data removed]",
      "text/plain": [
       "<Figure size 504x360 with 1 Axes>"
      ]
     },
     "metadata": {},
     "output_type": "display_data"
    }
   ],
   "source": [
    "# Plot of log q vs log tc depitcting the -1 slope.\n",
    "f, ax = plt.subplots(figsize=(7, 5))\n",
    "ax.set(xscale=\"log\", yscale=\"log\")\n",
    "plt.xlim(10,10000)\n",
    "plt.ylim(100,10000)\n",
    "plt.title('q vs tc',{'fontsize': 15})\n",
    "sns.regplot('MB tc', 'q (STB/D)', data=df,fit_reg=False)\n",
    "sns.regplot('MB tc', 'q (STB/D)', data=df_bdf,fit_reg=False)"
   ]
  },
  {
   "cell_type": "markdown",
   "metadata": {},
   "source": [
    "## Type of Decline\n",
    "\n",
    "Lets plot $log$ $q$ $vs$ $time$, to understand the type of decline."
   ]
  },
  {
   "cell_type": "code",
   "execution_count": 32,
   "metadata": {
    "scrolled": false
   },
   "outputs": [
    {
     "data": {
      "text/plain": [
       "<matplotlib.axes._subplots.AxesSubplot at 0x1c244a96c48>"
      ]
     },
     "execution_count": 32,
     "metadata": {},
     "output_type": "execute_result"
    },
    {
     "data": {
      "image/png": "[encoded data removed]",
      "text/plain": [
       "<Figure size 504x360 with 1 Axes>"
      ]
     },
     "metadata": {},
     "output_type": "display_data"
    }
   ],
   "source": [
    "# Plotting log q vs time and doing a linear fit\n",
    "f, ax = plt.subplots(figsize=(7, 5))\n",
    "ax.set(yscale=\"log\")\n",
    "plt.xlim(1800,2400)\n",
    "plt.ylim(100,10000)\n",
    "plt.title('q vs time',{'fontsize': 15})\n",
    "sns.regplot('time (days)', 'q (STB/D)', data=df_bdf)"
   ]
  },
  {
   "cell_type": "markdown",
   "metadata": {},
   "source": [
    "We can see, from the Arps decline curve Equations that, $ln$ $q$ $vs$ $t$ is a straight line plot in case of an ***Exponential Decline***."
   ]
  },
  {
   "attachments": {
    "image.png": {
     "image/png": "[encoded data removed]"
    }
   },
   "cell_type": "markdown",
   "metadata": {},
   "source": [
    "## Arps Decline Curve Functions\n",
    "![image.png](attachment:image.png)"
   ]
  },
  {
   "cell_type": "markdown",
   "metadata": {},
   "source": [
    "## Initial production rate $qi$ and Nominal Decline Rate $a$\n",
    "\n",
    "As the decline is Exponential, value of $b$ $=$ $0$."
   ]
  },
  {
   "cell_type": "markdown",
   "metadata": {},
   "source": [
    "For Exponetial Decline, production rate $q$ and Cumulative Production $Np$ is related as: $q$ = $qi$ - $a$ $Np$\n",
    "\n",
    "So lets plot $q$ $vs$ $Np$ and then using sklearn, fit a linear model to get the parameters $qi$ and $a$."
   ]
  },
  {
   "cell_type": "code",
   "execution_count": 34,
   "metadata": {},
   "outputs": [],
   "source": [
    "X = df_bdf['Np (STB)'].values.reshape(-1,1)\n",
    "y = df_bdf['q (STB/D)'].values.reshape(-1,1)"
   ]
  },
  {
   "cell_type": "code",
   "execution_count": 35,
   "metadata": {},
   "outputs": [],
   "source": [
    "from sklearn.linear_model import LinearRegression\n",
    "lm = LinearRegression()"
   ]
  },
  {
   "cell_type": "code",
   "execution_count": 36,
   "metadata": {},
   "outputs": [
    {
     "data": {
      "text/plain": [
       "LinearRegression(copy_X=True, fit_intercept=True, n_jobs=None, normalize=False)"
      ]
     },
     "execution_count": 36,
     "metadata": {},
     "output_type": "execute_result"
    }
   ],
   "source": [
    "lm.fit(X,y)"
   ]
  },
  {
   "cell_type": "code",
   "execution_count": 37,
   "metadata": {},
   "outputs": [
    {
     "name": "stdout",
     "output_type": "stream",
     "text": [
      "[-0.00107797]\n",
      "[7019.31945741]\n"
     ]
    }
   ],
   "source": [
    "print(lm.coef_[0])\n",
    "print(lm.intercept_)"
   ]
  },
  {
   "cell_type": "markdown",
   "metadata": {},
   "source": [
    "Thus, qi = 7019.3 and a = 0.0011"
   ]
  },
  {
   "cell_type": "code",
   "execution_count": 39,
   "metadata": {
    "scrolled": true
   },
   "outputs": [
    {
     "data": {
      "image/png": "[encoded data removed]",
      "text/plain": [
       "<Figure size 504x360 with 1 Axes>"
      ]
     },
     "metadata": {},
     "output_type": "display_data"
    }
   ],
   "source": [
    "import matplotlib.ticker as mat\n",
    "plt.figure(figsize=(7, 5))\n",
    "plt.xlim(5300000,5900000)\n",
    "plt.ylim(0,1400)\n",
    "plt.title('q vs Np',{'fontsize': 15})\n",
    "g = sns.regplot('Np (STB)', 'q (STB/D)', data=df_bdf)\n",
    "props = dict(boxstyle='square', alpha=0.3,color=sns.color_palette()[1])\n",
    "textstr = '$q=-0.0011Np + 7019.3$'\n",
    "g.axes.text(0.6, 0.2, textstr, transform=g.axes.transAxes, fontsize=9, bbox=props)\n",
    "g.axes.get_xaxis().set_major_formatter(mat.FuncFormatter(lambda x, p: format(int(x), ',')))"
   ]
  },
  {
   "cell_type": "code",
   "execution_count": 40,
   "metadata": {},
   "outputs": [],
   "source": [
    "# Assigning the variables\n",
    "a = 0.0011\n",
    "qi = 7019.3"
   ]
  },
  {
   "cell_type": "markdown",
   "metadata": {},
   "source": [
    "## Production Forecasting and calculating the well's Estimated Ultimate Recovery (EUR) for the next 3 years"
   ]
  },
  {
   "cell_type": "code",
   "execution_count": 44,
   "metadata": {},
   "outputs": [],
   "source": [
    "# Creating a new DataFrame 'forecast', to store the production forecasts for next three years.\n",
    "forecast = pd.DataFrame(columns=['time (days)','q (STB/D)','Np (STB)'])"
   ]
  },
  {
   "cell_type": "code",
   "execution_count": 45,
   "metadata": {},
   "outputs": [
    {
     "data": {
      "text/html": [
       "<div>\n",
       "<style scoped>\n",
       "    .dataframe tbody tr th:only-of-type {\n",
       "        vertical-align: middle;\n",
       "    }\n",
       "\n",
       "    .dataframe tbody tr th {\n",
       "        vertical-align: top;\n",
       "    }\n",
       "\n",
       "    .dataframe thead th {\n",
       "        text-align: right;\n",
       "    }\n",
       "</style>\n",
       "<table border=\"1\" class=\"dataframe\">\n",
       "  <thead>\n",
       "    <tr style=\"text-align: right;\">\n",
       "      <th></th>\n",
       "      <th>time (days)</th>\n",
       "      <th>q (STB/D)</th>\n",
       "      <th>Np (STB)</th>\n",
       "    </tr>\n",
       "  </thead>\n",
       "  <tbody>\n",
       "  </tbody>\n",
       "</table>\n",
       "</div>"
      ],
      "text/plain": [
       "Empty DataFrame\n",
       "Columns: [time (days), q (STB/D), Np (STB)]\n",
       "Index: []"
      ]
     },
     "execution_count": 45,
     "metadata": {},
     "output_type": "execute_result"
    }
   ],
   "source": [
    "forecast.head()"
   ]
  },
  {
   "cell_type": "code",
   "execution_count": 46,
   "metadata": {},
   "outputs": [],
   "source": [
    "forecast['time (days)'] = np.arange(2300,3390,10)"
   ]
  },
  {
   "cell_type": "code",
   "execution_count": 47,
   "metadata": {},
   "outputs": [
    {
     "data": {
      "text/html": [
       "<div>\n",
       "<style scoped>\n",
       "    .dataframe tbody tr th:only-of-type {\n",
       "        vertical-align: middle;\n",
       "    }\n",
       "\n",
       "    .dataframe tbody tr th {\n",
       "        vertical-align: top;\n",
       "    }\n",
       "\n",
       "    .dataframe thead th {\n",
       "        text-align: right;\n",
       "    }\n",
       "</style>\n",
       "<table border=\"1\" class=\"dataframe\">\n",
       "  <thead>\n",
       "    <tr style=\"text-align: right;\">\n",
       "      <th></th>\n",
       "      <th>time (days)</th>\n",
       "      <th>q (STB/D)</th>\n",
       "      <th>Np (STB)</th>\n",
       "    </tr>\n",
       "  </thead>\n",
       "  <tbody>\n",
       "    <tr>\n",
       "      <th>104</th>\n",
       "      <td>3340</td>\n",
       "      <td>NaN</td>\n",
       "      <td>NaN</td>\n",
       "    </tr>\n",
       "    <tr>\n",
       "      <th>105</th>\n",
       "      <td>3350</td>\n",
       "      <td>NaN</td>\n",
       "      <td>NaN</td>\n",
       "    </tr>\n",
       "    <tr>\n",
       "      <th>106</th>\n",
       "      <td>3360</td>\n",
       "      <td>NaN</td>\n",
       "      <td>NaN</td>\n",
       "    </tr>\n",
       "    <tr>\n",
       "      <th>107</th>\n",
       "      <td>3370</td>\n",
       "      <td>NaN</td>\n",
       "      <td>NaN</td>\n",
       "    </tr>\n",
       "    <tr>\n",
       "      <th>108</th>\n",
       "      <td>3380</td>\n",
       "      <td>NaN</td>\n",
       "      <td>NaN</td>\n",
       "    </tr>\n",
       "  </tbody>\n",
       "</table>\n",
       "</div>"
      ],
      "text/plain": [
       "     time (days) q (STB/D) Np (STB)\n",
       "104         3340       NaN      NaN\n",
       "105         3350       NaN      NaN\n",
       "106         3360       NaN      NaN\n",
       "107         3370       NaN      NaN\n",
       "108         3380       NaN      NaN"
      ]
     },
     "execution_count": 47,
     "metadata": {},
     "output_type": "execute_result"
    }
   ],
   "source": [
    "forecast.tail()"
   ]
  },
  {
   "cell_type": "markdown",
   "metadata": {},
   "source": [
    "We have our data for **2292** days, so I have started the forcasting from **2300** Days untill **3390** Days (i.e 3 years after 2292 Days)"
   ]
  },
  {
   "cell_type": "code",
   "execution_count": 53,
   "metadata": {},
   "outputs": [],
   "source": [
    "# Using the Arps Exponential Curve fit equations and values of qi and a\n",
    "for i in range(0,109):\n",
    "    forecast.iloc[i,1] = 8696*2.718**(-1.082*(10**-3)*(forecast.iloc[i,0]))"
   ]
  },
  {
   "cell_type": "code",
   "execution_count": 56,
   "metadata": {},
   "outputs": [
    {
     "data": {
      "text/html": [
       "<div>\n",
       "<style scoped>\n",
       "    .dataframe tbody tr th:only-of-type {\n",
       "        vertical-align: middle;\n",
       "    }\n",
       "\n",
       "    .dataframe tbody tr th {\n",
       "        vertical-align: top;\n",
       "    }\n",
       "\n",
       "    .dataframe thead th {\n",
       "        text-align: right;\n",
       "    }\n",
       "</style>\n",
       "<table border=\"1\" class=\"dataframe\">\n",
       "  <thead>\n",
       "    <tr style=\"text-align: right;\">\n",
       "      <th></th>\n",
       "      <th>time (days)</th>\n",
       "      <th>q (STB/D)</th>\n",
       "      <th>Np (STB)</th>\n",
       "    </tr>\n",
       "  </thead>\n",
       "  <tbody>\n",
       "    <tr>\n",
       "      <th>0</th>\n",
       "      <td>2300</td>\n",
       "      <td>722.181</td>\n",
       "      <td>NaN</td>\n",
       "    </tr>\n",
       "    <tr>\n",
       "      <th>1</th>\n",
       "      <td>2310</td>\n",
       "      <td>714.41</td>\n",
       "      <td>NaN</td>\n",
       "    </tr>\n",
       "    <tr>\n",
       "      <th>2</th>\n",
       "      <td>2320</td>\n",
       "      <td>706.723</td>\n",
       "      <td>NaN</td>\n",
       "    </tr>\n",
       "    <tr>\n",
       "      <th>3</th>\n",
       "      <td>2330</td>\n",
       "      <td>699.118</td>\n",
       "      <td>NaN</td>\n",
       "    </tr>\n",
       "    <tr>\n",
       "      <th>4</th>\n",
       "      <td>2340</td>\n",
       "      <td>691.595</td>\n",
       "      <td>NaN</td>\n",
       "    </tr>\n",
       "  </tbody>\n",
       "</table>\n",
       "</div>"
      ],
      "text/plain": [
       "   time (days) q (STB/D) Np (STB)\n",
       "0         2300   722.181      NaN\n",
       "1         2310    714.41      NaN\n",
       "2         2320   706.723      NaN\n",
       "3         2330   699.118      NaN\n",
       "4         2340   691.595      NaN"
      ]
     },
     "execution_count": 56,
     "metadata": {},
     "output_type": "execute_result"
    }
   ],
   "source": [
    "forecast.head()"
   ]
  },
  {
   "cell_type": "code",
   "execution_count": 76,
   "metadata": {},
   "outputs": [],
   "source": [
    "# Calculating the Cumulative Production and EUR\n",
    "forecast.iloc[0,2] = forecast.iloc[0,1] * (forecast.iloc[0,0] - df_bdf.iloc[24,3]) + df_bdf.iloc[24,2]\n",
    "\n",
    "for i in range(1,109):\n",
    "    forecast.iloc[i,2] = forecast.iloc[i,1]*(forecast.iloc[i,0] - forecast.iloc[i-1,0]) + forecast.iloc[i-1,2]"
   ]
  },
  {
   "cell_type": "code",
   "execution_count": 80,
   "metadata": {},
   "outputs": [
    {
     "data": {
      "text/html": [
       "<div>\n",
       "<style scoped>\n",
       "    .dataframe tbody tr th:only-of-type {\n",
       "        vertical-align: middle;\n",
       "    }\n",
       "\n",
       "    .dataframe tbody tr th {\n",
       "        vertical-align: top;\n",
       "    }\n",
       "\n",
       "    .dataframe thead th {\n",
       "        text-align: right;\n",
       "    }\n",
       "</style>\n",
       "<table border=\"1\" class=\"dataframe\">\n",
       "  <thead>\n",
       "    <tr style=\"text-align: right;\">\n",
       "      <th></th>\n",
       "      <th>time (days)</th>\n",
       "      <th>q (STB/D)</th>\n",
       "      <th>Np (STB)</th>\n",
       "    </tr>\n",
       "  </thead>\n",
       "  <tbody>\n",
       "    <tr>\n",
       "      <th>104</th>\n",
       "      <td>3340</td>\n",
       "      <td>234.42</td>\n",
       "      <td>6.28848e+06</td>\n",
       "    </tr>\n",
       "    <tr>\n",
       "      <th>105</th>\n",
       "      <td>3350</td>\n",
       "      <td>231.897</td>\n",
       "      <td>6.2908e+06</td>\n",
       "    </tr>\n",
       "    <tr>\n",
       "      <th>106</th>\n",
       "      <td>3360</td>\n",
       "      <td>229.402</td>\n",
       "      <td>6.29309e+06</td>\n",
       "    </tr>\n",
       "    <tr>\n",
       "      <th>107</th>\n",
       "      <td>3370</td>\n",
       "      <td>226.933</td>\n",
       "      <td>6.29536e+06</td>\n",
       "    </tr>\n",
       "    <tr>\n",
       "      <th>108</th>\n",
       "      <td>3380</td>\n",
       "      <td>224.491</td>\n",
       "      <td>6.29761e+06</td>\n",
       "    </tr>\n",
       "  </tbody>\n",
       "</table>\n",
       "</div>"
      ],
      "text/plain": [
       "     time (days) q (STB/D)     Np (STB)\n",
       "104         3340    234.42  6.28848e+06\n",
       "105         3350   231.897   6.2908e+06\n",
       "106         3360   229.402  6.29309e+06\n",
       "107         3370   226.933  6.29536e+06\n",
       "108         3380   224.491  6.29761e+06"
      ]
     },
     "execution_count": 80,
     "metadata": {},
     "output_type": "execute_result"
    }
   ],
   "source": [
    "forecast.tail()"
   ]
  },
  {
   "cell_type": "code",
   "execution_count": 116,
   "metadata": {},
   "outputs": [
    {
     "data": {
      "image/png": "[encoded data removed]",
      "text/plain": [
       "<Figure size 864x504 with 2 Axes>"
      ]
     },
     "metadata": {},
     "output_type": "display_data"
    }
   ],
   "source": [
    "sns.set_style('white')\n",
    "plt.figure(figsize=(12,7))\n",
    "plt.title('Production Forecast',{'fontsize': 15})\n",
    "ax = sns.regplot('time (days)', 'q (STB/D)', data=df_bdf,fit_reg=False, label='q vs t',color='blue')\n",
    "ax = sns.regplot('time (days)', 'q (STB/D)', data=forecast,fit_reg=False, color='blue')\n",
    "ax.legend(loc=6,fontsize=15)\n",
    "ax2 = ax.twinx()\n",
    "g = sns.regplot('time (days)', 'Np (STB)', data=df_bdf, fit_reg=False,label='Np vs t',color='orange')\n",
    "g = sns.regplot('time (days)', 'Np (STB)', data=forecast,fit_reg=False, color='orange')\n",
    "g.legend(loc=7,fontsize=15)\n",
    "g.axes.get_yaxis().set_major_formatter(mat.FuncFormatter(lambda y, p: format(int(y), ',')))"
   ]
  },
  {
   "cell_type": "markdown",
   "metadata": {},
   "source": [
    "### EUR after 3 years is 6.28 MMSTB"
   ]
  }
 ],
 "metadata": {
  "kernelspec": {
   "display_name": "Python 3",
   "language": "python",
   "name": "python3"
  },
  "language_info": {
   "codemirror_mode": {
    "name": "ipython",
    "version": 3
   },
   "file_extension": ".py",
   "mimetype": "text/x-python",
   "name": "python",
   "nbconvert_exporter": "python",
   "pygments_lexer": "ipython3",
   "version": "3.7.6"
  }
 },
 "nbformat": 4,
 "nbformat_minor": 4
}
